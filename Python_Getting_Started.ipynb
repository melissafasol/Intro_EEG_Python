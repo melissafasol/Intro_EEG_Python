{
 "cells": [
  {
   "cell_type": "markdown",
   "id": "a2421cc3",
   "metadata": {},
   "source": [
    "## Python Basics"
   ]
  },
  {
   "cell_type": "code",
   "execution_count": 12,
   "id": "bbde9add",
   "metadata": {},
   "outputs": [],
   "source": [
    "import os \n",
    "import pandas as pd \n",
    "import numpy as np"
   ]
  },
  {
   "cell_type": "markdown",
   "id": "4e1e6cbb",
   "metadata": {},
   "source": [
    "### Data Types"
   ]
  },
  {
   "cell_type": "markdown",
   "id": "ea30b7a7",
   "metadata": {},
   "source": [
    "There are different data types in Python:  strings, integers, floats or booleans. You can store these data types as variables, by making the variable name equal to your data type. "
   ]
  },
  {
   "cell_type": "code",
   "execution_count": 1,
   "id": "820a01d3",
   "metadata": {},
   "outputs": [],
   "source": [
    "#example of a string \n",
    "string_ex = 'Hi!'\n",
    "int_ex = 2\n",
    "float_ex = 2.5\n",
    "bool_ex = True"
   ]
  },
  {
   "cell_type": "markdown",
   "id": "021d936a",
   "metadata": {},
   "source": [
    "You can always check what data type a variable is by **type(your_variable_name)**:"
   ]
  },
  {
   "cell_type": "code",
   "execution_count": 2,
   "id": "b56cbb42",
   "metadata": {},
   "outputs": [
    {
     "data": {
      "text/plain": [
       "int"
      ]
     },
     "execution_count": 2,
     "metadata": {},
     "output_type": "execute_result"
    }
   ],
   "source": [
    "type(int_ex)"
   ]
  },
  {
   "cell_type": "markdown",
   "id": "6c410ceb",
   "metadata": {},
   "source": [
    "You can manually set a variable to a data type, for example if I wanted to convert the float example above into an integer:"
   ]
  },
  {
   "cell_type": "code",
   "execution_count": 5,
   "id": "c603aaaa",
   "metadata": {},
   "outputs": [
    {
     "name": "stdout",
     "output_type": "stream",
     "text": [
      "2\n"
     ]
    }
   ],
   "source": [
    "convert_ex = int(float_ex)\n",
    "print(convert_ex)"
   ]
  },
  {
   "cell_type": "markdown",
   "id": "0f9f3f41",
   "metadata": {},
   "source": [
    "It is now an integer, but note that the **value has changed**"
   ]
  },
  {
   "cell_type": "markdown",
   "id": "4f769594",
   "metadata": {},
   "source": [
    "### There are multiple formats to store data in: lists, dictionaries, tuples, arrays "
   ]
  },
  {
   "cell_type": "markdown",
   "id": "92ba56b9",
   "metadata": {},
   "source": [
    "* A list is data stored in [ ] and is mutable - meaning it can be changed. \n",
    "* Dictionaries have key:value pairs and are stored in curly brackets {}. \n",
    "* Tuples can save multiple data types, but are immutable meaning they can't be changed once they are created and are created with (). "
   ]
  },
  {
   "cell_type": "code",
   "execution_count": 17,
   "id": "6eb07413",
   "metadata": {},
   "outputs": [],
   "source": [
    "list_ex = [1, 2, 3]\n",
    "dictionary_ex = { 'animal_id' : '130', 'sleepstage': 'REM'}\n",
    "tuple_ex = (list_ex, dictionary_ex)"
   ]
  },
  {
   "cell_type": "markdown",
   "id": "fdc29892",
   "metadata": {},
   "source": [
    "## Writing functions "
   ]
  },
  {
   "cell_type": "markdown",
   "id": "e5561829",
   "metadata": {},
   "source": [
    "Functions are very useful if you want to perform the same operation multiple times. When you write a function it always has the same format"
   ]
  },
  {
   "cell_type": "code",
   "execution_count": 25,
   "id": "19babf86",
   "metadata": {},
   "outputs": [
    {
     "data": {
      "text/plain": [
       "5"
      ]
     },
     "execution_count": 25,
     "metadata": {},
     "output_type": "execute_result"
    }
   ],
   "source": [
    "value = 2 \n",
    "other_value = 3\n",
    "new_value = value + other_value\n",
    "new_value"
   ]
  },
  {
   "cell_type": "markdown",
   "id": "925bffff",
   "metadata": {},
   "source": [
    "if I wanted to add multiple values but do not want to hardcode it each time I'll write a function"
   ]
  },
  {
   "cell_type": "code",
   "execution_count": 21,
   "id": "cb004091",
   "metadata": {},
   "outputs": [],
   "source": [
    "def adding_values(value, other_value):\n",
    "    new_value = value + other_value\n",
    "    return new_value"
   ]
  },
  {
   "cell_type": "markdown",
   "id": "880618b1",
   "metadata": {},
   "source": [
    "### call function"
   ]
  },
  {
   "cell_type": "code",
   "execution_count": 24,
   "id": "c81e323c",
   "metadata": {},
   "outputs": [
    {
     "data": {
      "text/plain": [
       "5"
      ]
     },
     "execution_count": 24,
     "metadata": {},
     "output_type": "execute_result"
    }
   ],
   "source": [
    "adding_values(value, other_value)"
   ]
  },
  {
   "cell_type": "markdown",
   "id": "2ea6ff63",
   "metadata": {},
   "source": [
    "* Functions always start with **def** and then the **name_of_function**, the **inputs** to the function in brackets followed by a colon (:) \n",
    "* the return argument is the output of the function that you would like "
   ]
  },
  {
   "cell_type": "markdown",
   "id": "ab2ccd7c",
   "metadata": {},
   "source": [
    "### General format of a function "
   ]
  },
  {
   "cell_type": "code",
   "execution_count": 23,
   "id": "beb2bb60",
   "metadata": {},
   "outputs": [],
   "source": [
    "def name_of_function(input_1, input_2):\n",
    "    desired_output = operation(input_1, input_2)\n",
    "    return desired_output"
   ]
  },
  {
   "cell_type": "code",
   "execution_count": null,
   "id": "fa3a7fee",
   "metadata": {},
   "outputs": [],
   "source": []
  },
  {
   "cell_type": "code",
   "execution_count": null,
   "id": "39e15e89",
   "metadata": {},
   "outputs": [],
   "source": []
  }
 ],
 "metadata": {
  "kernelspec": {
   "display_name": "env2023",
   "language": "python",
   "name": "env2023"
  },
  "language_info": {
   "codemirror_mode": {
    "name": "ipython",
    "version": 3
   },
   "file_extension": ".py",
   "mimetype": "text/x-python",
   "name": "python",
   "nbconvert_exporter": "python",
   "pygments_lexer": "ipython3",
   "version": "3.8.15"
  }
 },
 "nbformat": 4,
 "nbformat_minor": 5
}
