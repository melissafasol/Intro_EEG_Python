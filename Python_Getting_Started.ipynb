{
 "cells": [
  {
   "cell_type": "markdown",
   "id": "b6bde5bb",
   "metadata": {},
   "source": [
    "## Python Basics"
   ]
  },
  {
   "cell_type": "code",
   "execution_count": 12,
   "id": "934781eb",
   "metadata": {},
   "outputs": [],
   "source": [
    "import os \n",
    "import pandas as pd \n",
    "import numpy as np"
   ]
  },
  {
   "cell_type": "markdown",
   "id": "20eaaf78",
   "metadata": {},
   "source": [
    "### Data Types"
   ]
  },
  {
   "cell_type": "markdown",
   "id": "e83615e9",
   "metadata": {},
   "source": [
    "There are different data types in Python:  strings, integers, floats or booleans. You can store these data types as variables, by making the variable name equal to your data type. "
   ]
  },
  {
   "cell_type": "code",
   "execution_count": 1,
   "id": "1bee4da8",
   "metadata": {},
   "outputs": [],
   "source": [
    "#example of a string \n",
    "string_ex = 'Hi!'\n",
    "int_ex = 2\n",
    "float_ex = 2.5\n",
    "bool_ex = True"
   ]
  },
  {
   "cell_type": "markdown",
   "id": "996cdfab",
   "metadata": {},
   "source": [
    "You can always check what data type a variable is by **type(your_variable_name)**:"
   ]
  },
  {
   "cell_type": "code",
   "execution_count": 2,
   "id": "f526ca8d",
   "metadata": {},
   "outputs": [
    {
     "data": {
      "text/plain": [
       "int"
      ]
     },
     "execution_count": 2,
     "metadata": {},
     "output_type": "execute_result"
    }
   ],
   "source": [
    "type(int_ex)"
   ]
  },
  {
   "cell_type": "markdown",
   "id": "8a3c4285",
   "metadata": {},
   "source": [
    "You can manually set a variable to a data type, for example if I wanted to convert the float example above into an integer:"
   ]
  },
  {
   "cell_type": "code",
   "execution_count": 5,
   "id": "e2dfbe53",
   "metadata": {},
   "outputs": [
    {
     "name": "stdout",
     "output_type": "stream",
     "text": [
      "2\n"
     ]
    }
   ],
   "source": [
    "convert_ex = int(float_ex)\n",
    "print(convert_ex)"
   ]
  },
  {
   "cell_type": "markdown",
   "id": "b439d1d1",
   "metadata": {},
   "source": [
    "It is now an integer, but note that the **value has changed**"
   ]
  },
  {
   "cell_type": "markdown",
   "id": "296b1963",
   "metadata": {},
   "source": [
    "### There are multiple formats to store data in: lists, dictionaries, tuples, arrays "
   ]
  },
  {
   "cell_type": "markdown",
   "id": "b7e9bfaa",
   "metadata": {},
   "source": [
    "* A list is data stored in [ ] and is mutable - meaning it can be changed. \n",
    "* Dictionaries have key:value pairs and are stored in curly brackets {}. \n",
    "* Tuples can save multiple data types, but are immutable meaning they can't be changed once they are created and are created with (). "
   ]
  },
  {
   "cell_type": "code",
   "execution_count": 17,
   "id": "5b6bae0c",
   "metadata": {},
   "outputs": [],
   "source": [
    "list_ex = [1, 2, 3]\n",
    "dictionary_ex = { 'animal_id' : '130', 'sleepstage': 'REM'}\n",
    "tuple_ex = (list_ex, dictionary_ex)"
   ]
  },
  {
   "cell_type": "markdown",
   "id": "5d2d24ba",
   "metadata": {},
   "source": [
    "## Writing functions "
   ]
  },
  {
   "cell_type": "markdown",
   "id": "7150c4a1",
   "metadata": {},
   "source": [
    "Functions are very useful if you want to perform the same operation multiple times. When you write a function it always has the same format"
   ]
  },
  {
   "cell_type": "code",
   "execution_count": 25,
   "id": "26bc61d6",
   "metadata": {},
   "outputs": [
    {
     "data": {
      "text/plain": [
       "5"
      ]
     },
     "execution_count": 25,
     "metadata": {},
     "output_type": "execute_result"
    }
   ],
   "source": [
    "value = 2 \n",
    "other_value = 3\n",
    "new_value = value + other_value\n",
    "new_value"
   ]
  },
  {
   "cell_type": "markdown",
   "id": "f86cb141",
   "metadata": {},
   "source": [
    "if I wanted to add multiple values but do not want to hardcode it each time I'll write a function"
   ]
  },
  {
   "cell_type": "code",
   "execution_count": 21,
   "id": "8df24ce4",
   "metadata": {},
   "outputs": [],
   "source": [
    "def adding_values(value, other_value):\n",
    "    new_value = value + other_value\n",
    "    return new_value"
   ]
  },
  {
   "cell_type": "markdown",
   "id": "ca97c21a",
   "metadata": {},
   "source": [
    "### call function"
   ]
  },
  {
   "cell_type": "code",
   "execution_count": 24,
   "id": "6837b3bb",
   "metadata": {},
   "outputs": [
    {
     "data": {
      "text/plain": [
       "5"
      ]
     },
     "execution_count": 24,
     "metadata": {},
     "output_type": "execute_result"
    }
   ],
   "source": [
    "adding_values(value, other_value)"
   ]
  },
  {
   "cell_type": "markdown",
   "id": "24b9c125",
   "metadata": {},
   "source": [
    "* Functions always start with **def** and then the **name_of_function**, the **inputs** to the function in brackets followed by a colon (:) \n",
    "* the return argument is the output of the function that you would like "
   ]
  },
  {
   "cell_type": "markdown",
   "id": "f32420ef",
   "metadata": {},
   "source": [
    "### General format of a function "
   ]
  },
  {
   "cell_type": "code",
   "execution_count": 23,
   "id": "b7a4b86a",
   "metadata": {},
   "outputs": [],
   "source": [
    "def name_of_function(input_1, input_2):\n",
    "    desired_output = operation(input_1, input_2)\n",
    "    return desired_output"
   ]
  },
  {
   "cell_type": "markdown",
   "id": "4ae3d61b",
   "metadata": {},
   "source": [
    "## For Loops"
   ]
  },
  {
   "cell_type": "markdown",
   "id": "8801c9f8",
   "metadata": {},
   "source": [
    "If you want to do the same thing over and over again we use loops.\n",
    "\n",
    "The most common loop is the for loop because it starts with the special name **for**"
   ]
  },
  {
   "cell_type": "code",
   "execution_count": 26,
   "id": "bafe6c0b",
   "metadata": {},
   "outputs": [
    {
     "name": "stdout",
     "output_type": "stream",
     "text": [
      "0\n",
      "1\n",
      "2\n",
      "3\n",
      "4\n",
      "5\n",
      "6\n",
      "7\n",
      "8\n",
      "9\n"
     ]
    }
   ],
   "source": [
    "N = 10\n",
    "for i in range(N):\n",
    "    print(i)"
   ]
  },
  {
   "cell_type": "markdown",
   "id": "88049a42",
   "metadata": {},
   "source": [
    "### General format of a for loop"
   ]
  },
  {
   "cell_type": "code",
   "execution_count": 28,
   "id": "420c9989",
   "metadata": {},
   "outputs": [
    {
     "ename": "SyntaxError",
     "evalue": "invalid syntax (2373817254.py, line 1)",
     "output_type": "error",
     "traceback": [
      "\u001b[0;36m  Cell \u001b[0;32mIn[28], line 1\u001b[0;36m\u001b[0m\n\u001b[0;31m    for <temp var name> in range(<number of iterations>):\u001b[0m\n\u001b[0m        ^\u001b[0m\n\u001b[0;31mSyntaxError\u001b[0m\u001b[0;31m:\u001b[0m invalid syntax\n"
     ]
    }
   ],
   "source": [
    "for vaariable in range(number_of iterations>):\n",
    "    <statement on new indented line using tabs or spaces>"
   ]
  },
  {
   "cell_type": "code",
   "execution_count": null,
   "id": "24f74919",
   "metadata": {},
   "outputs": [],
   "source": []
  },
  {
   "cell_type": "code",
   "execution_count": null,
   "id": "37657a62",
   "metadata": {},
   "outputs": [],
   "source": []
  }
 ],
 "metadata": {
  "kernelspec": {
   "display_name": "env2023",
   "language": "python",
   "name": "env2023"
  },
  "language_info": {
   "codemirror_mode": {
    "name": "ipython",
    "version": 3
   },
   "file_extension": ".py",
   "mimetype": "text/x-python",
   "name": "python",
   "nbconvert_exporter": "python",
   "pygments_lexer": "ipython3",
   "version": "3.8.15"
  }
 },
 "nbformat": 4,
 "nbformat_minor": 5
}
