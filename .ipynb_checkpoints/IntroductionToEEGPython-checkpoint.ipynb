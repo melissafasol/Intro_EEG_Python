{
 "cells": [
  {
   "cell_type": "markdown",
   "id": "aac9c9b6",
   "metadata": {},
   "source": [
    "## This notebook is to explain the different recordings, data format and how to read files "
   ]
  },
  {
   "cell_type": "markdown",
   "id": "1ac2cd16",
   "metadata": {},
   "source": [
    "<span style=\"color:blue\"> Before doing this I recommend initialising a git repository and setting up a conda environment with the required python packages  </span> "
   ]
  },
  {
   "cell_type": "code",
   "execution_count": 5,
   "id": "6cf814e3",
   "metadata": {},
   "outputs": [],
   "source": [
    "## import the necessary python packages \n",
    "import os \n",
    "import pandas as pd \n",
    "import numpy as np "
   ]
  },
  {
   "cell_type": "code",
   "execution_count": 6,
   "id": "a20c7f40",
   "metadata": {},
   "outputs": [],
   "source": [
    "#select the file path - this changes the working directory to the folder with all the files you want to analyse\n",
    "os.chdir('/home/melissa/PREPROCESSING/GRIN2B/GRIN2B_numpy/')"
   ]
  },
  {
   "cell_type": "markdown",
   "id": "db23b554",
   "metadata": {},
   "source": [
    "#### For each animal (e.g animal_id = 130) there is one recording file (e.g 130_GRIN2B.npy) and two brainstate files."
   ]
  },
  {
   "cell_type": "markdown",
   "id": "169dcf60",
   "metadata": {},
   "source": [
    "* Each recording file is the raw data in npy format. Each brainstate file is in pickle format (similar to an excel spreadsheet)\n",
    "* The brainstate files have a brainstate number (0, 1, 2) which correspond to different sleep stages, where:\n",
    " * 0 == WAKE\n",
    " * 1 == Non-REM\n",
    " * 2 == REM\n",
    "*the brainstate files also have start times and end times which go up in 5 second increments and split the recording file into 5 second epochs of each brainstate\n"
   ]
  },
  {
   "cell_type": "code",
   "execution_count": 8,
   "id": "12f546a4",
   "metadata": {},
   "outputs": [],
   "source": [
    "#load all the necessary files for one day of one animal \n",
    "animal_130 = np.load('130_GRIN2B.npy')\n",
    "br_1_130 = pd.read_pickle('130_BL1.pkl')"
   ]
  },
  {
   "cell_type": "code",
   "execution_count": 9,
   "id": "ca3b6595",
   "metadata": {},
   "outputs": [
    {
     "data": {
      "text/plain": [
       "array([[   0,  -13, 1341, ..., 2780, 2846, 2978],\n",
       "       [   0,  -13, 1332, ..., 2657, 2689, 2706],\n",
       "       [   0,  -13, 1355, ..., 2752, 2848, 2965],\n",
       "       ...,\n",
       "       [   0,  -13, 1324, ..., 2603, 2703, 2829],\n",
       "       [   0,  -13, 1285, ..., 2644, 2674, 2697],\n",
       "       [   0,  -13, 1323, ..., 2730, 2826, 2958]], dtype=int16)"
      ]
     },
     "execution_count": 9,
     "metadata": {},
     "output_type": "execute_result"
    }
   ],
   "source": [
    "#view raw recording\n",
    "animal_130"
   ]
  },
  {
   "cell_type": "code",
   "execution_count": 10,
   "id": "1a8f4695",
   "metadata": {},
   "outputs": [
    {
     "data": {
      "text/html": [
       "<div>\n",
       "<style scoped>\n",
       "    .dataframe tbody tr th:only-of-type {\n",
       "        vertical-align: middle;\n",
       "    }\n",
       "\n",
       "    .dataframe tbody tr th {\n",
       "        vertical-align: top;\n",
       "    }\n",
       "\n",
       "    .dataframe thead th {\n",
       "        text-align: right;\n",
       "    }\n",
       "</style>\n",
       "<table border=\"1\" class=\"dataframe\">\n",
       "  <thead>\n",
       "    <tr style=\"text-align: right;\">\n",
       "      <th></th>\n",
       "      <th>brainstate</th>\n",
       "      <th>start_epoch</th>\n",
       "      <th>end_epoch</th>\n",
       "    </tr>\n",
       "  </thead>\n",
       "  <tbody>\n",
       "    <tr>\n",
       "      <th>0</th>\n",
       "      <td>0</td>\n",
       "      <td>0</td>\n",
       "      <td>5</td>\n",
       "    </tr>\n",
       "    <tr>\n",
       "      <th>1</th>\n",
       "      <td>0</td>\n",
       "      <td>5</td>\n",
       "      <td>10</td>\n",
       "    </tr>\n",
       "    <tr>\n",
       "      <th>2</th>\n",
       "      <td>0</td>\n",
       "      <td>10</td>\n",
       "      <td>15</td>\n",
       "    </tr>\n",
       "    <tr>\n",
       "      <th>3</th>\n",
       "      <td>0</td>\n",
       "      <td>15</td>\n",
       "      <td>20</td>\n",
       "    </tr>\n",
       "    <tr>\n",
       "      <th>4</th>\n",
       "      <td>0</td>\n",
       "      <td>20</td>\n",
       "      <td>25</td>\n",
       "    </tr>\n",
       "    <tr>\n",
       "      <th>...</th>\n",
       "      <td>...</td>\n",
       "      <td>...</td>\n",
       "      <td>...</td>\n",
       "    </tr>\n",
       "    <tr>\n",
       "      <th>17275</th>\n",
       "      <td>0</td>\n",
       "      <td>86375</td>\n",
       "      <td>86380</td>\n",
       "    </tr>\n",
       "    <tr>\n",
       "      <th>17276</th>\n",
       "      <td>0</td>\n",
       "      <td>86380</td>\n",
       "      <td>86385</td>\n",
       "    </tr>\n",
       "    <tr>\n",
       "      <th>17277</th>\n",
       "      <td>0</td>\n",
       "      <td>86385</td>\n",
       "      <td>86390</td>\n",
       "    </tr>\n",
       "    <tr>\n",
       "      <th>17278</th>\n",
       "      <td>0</td>\n",
       "      <td>86390</td>\n",
       "      <td>86395</td>\n",
       "    </tr>\n",
       "    <tr>\n",
       "      <th>17279</th>\n",
       "      <td>0</td>\n",
       "      <td>86395</td>\n",
       "      <td>86400</td>\n",
       "    </tr>\n",
       "  </tbody>\n",
       "</table>\n",
       "<p>17280 rows × 3 columns</p>\n",
       "</div>"
      ],
      "text/plain": [
       "       brainstate  start_epoch  end_epoch\n",
       "0               0            0          5\n",
       "1               0            5         10\n",
       "2               0           10         15\n",
       "3               0           15         20\n",
       "4               0           20         25\n",
       "...           ...          ...        ...\n",
       "17275           0        86375      86380\n",
       "17276           0        86380      86385\n",
       "17277           0        86385      86390\n",
       "17278           0        86390      86395\n",
       "17279           0        86395      86400\n",
       "\n",
       "[17280 rows x 3 columns]"
      ]
     },
     "execution_count": 10,
     "metadata": {},
     "output_type": "execute_result"
    }
   ],
   "source": [
    "#brainstate \n",
    "br_1_130"
   ]
  },
  {
   "cell_type": "markdown",
   "id": "0a55b7e1",
   "metadata": {},
   "source": [
    "For each animal there are different recording 'start' and 'end' times which correspond to when the automatic sleepscorer has started scoring the data"
   ]
  },
  {
   "cell_type": "markdown",
   "id": "04b3c9b5",
   "metadata": {},
   "source": [
    "To look at each animal go to: https://github.com/melissafasol/GRIN2B/blob/main/scripts/GRIN2B_constants.py"
   ]
  },
  {
   "cell_type": "code",
   "execution_count": 11,
   "id": "5940d125",
   "metadata": {},
   "outputs": [],
   "source": [
    "start = 18088897\n",
    "end = 39723456"
   ]
  },
  {
   "cell_type": "code",
   "execution_count": 16,
   "id": "94382c3c",
   "metadata": {},
   "outputs": [
    {
     "data": {
      "text/plain": [
       "array([[2763, 2790, 2837, ..., 2719, 2715, 2731],\n",
       "       [2713, 2705, 2699, ..., 2697, 2704, 2695],\n",
       "       [2736, 2769, 2797, ..., 2741, 2758, 2773],\n",
       "       ...,\n",
       "       [2685, 2711, 2727, ..., 2685, 2705, 2711],\n",
       "       [2727, 2720, 2715, ..., 2714, 2711, 2701],\n",
       "       [2739, 2729, 2727, ..., 2713, 2713, 2709]], dtype=int16)"
      ]
     },
     "execution_count": 16,
     "metadata": {},
     "output_type": "execute_result"
    }
   ],
   "source": [
    "#save a new object which just considers recording in this time frame\n",
    "sliced_recording = animal_130[:, 18088897:39723456] \n",
    "sliced_recording"
   ]
  },
  {
   "cell_type": "markdown",
   "id": "227685d9",
   "metadata": {},
   "source": [
    "In the above dataframe the first colon represents the rows and the second represents the times.The next colon represents the columns, we have selected data values between the start and end times for all channels, so there should be 16 rows - one row for each channel"
   ]
  },
  {
   "cell_type": "markdown",
   "id": "62e6e4d5",
   "metadata": {},
   "source": [
    "## Looking at particular sleepstages"
   ]
  },
  {
   "cell_type": "markdown",
   "id": "d4a5506f",
   "metadata": {},
   "source": [
    "If we want to look at the time values for a particular sleep stage, first select the sleepstage you want to look at in the brainstate file. Let's use REM (2) as an example"
   ]
  },
  {
   "cell_type": "code",
   "execution_count": 20,
   "id": "90451708",
   "metadata": {},
   "outputs": [
    {
     "data": {
      "text/html": [
       "<div>\n",
       "<style scoped>\n",
       "    .dataframe tbody tr th:only-of-type {\n",
       "        vertical-align: middle;\n",
       "    }\n",
       "\n",
       "    .dataframe tbody tr th {\n",
       "        vertical-align: top;\n",
       "    }\n",
       "\n",
       "    .dataframe thead th {\n",
       "        text-align: right;\n",
       "    }\n",
       "</style>\n",
       "<table border=\"1\" class=\"dataframe\">\n",
       "  <thead>\n",
       "    <tr style=\"text-align: right;\">\n",
       "      <th></th>\n",
       "      <th>brainstate</th>\n",
       "      <th>start_epoch</th>\n",
       "      <th>end_epoch</th>\n",
       "    </tr>\n",
       "  </thead>\n",
       "  <tbody>\n",
       "    <tr>\n",
       "      <th>963</th>\n",
       "      <td>2</td>\n",
       "      <td>4815</td>\n",
       "      <td>4820</td>\n",
       "    </tr>\n",
       "    <tr>\n",
       "      <th>964</th>\n",
       "      <td>2</td>\n",
       "      <td>4820</td>\n",
       "      <td>4825</td>\n",
       "    </tr>\n",
       "    <tr>\n",
       "      <th>965</th>\n",
       "      <td>2</td>\n",
       "      <td>4825</td>\n",
       "      <td>4830</td>\n",
       "    </tr>\n",
       "    <tr>\n",
       "      <th>966</th>\n",
       "      <td>2</td>\n",
       "      <td>4830</td>\n",
       "      <td>4835</td>\n",
       "    </tr>\n",
       "    <tr>\n",
       "      <th>967</th>\n",
       "      <td>2</td>\n",
       "      <td>4835</td>\n",
       "      <td>4840</td>\n",
       "    </tr>\n",
       "    <tr>\n",
       "      <th>...</th>\n",
       "      <td>...</td>\n",
       "      <td>...</td>\n",
       "      <td>...</td>\n",
       "    </tr>\n",
       "    <tr>\n",
       "      <th>16132</th>\n",
       "      <td>2</td>\n",
       "      <td>80660</td>\n",
       "      <td>80665</td>\n",
       "    </tr>\n",
       "    <tr>\n",
       "      <th>16347</th>\n",
       "      <td>2</td>\n",
       "      <td>81735</td>\n",
       "      <td>81740</td>\n",
       "    </tr>\n",
       "    <tr>\n",
       "      <th>16348</th>\n",
       "      <td>2</td>\n",
       "      <td>81740</td>\n",
       "      <td>81745</td>\n",
       "    </tr>\n",
       "    <tr>\n",
       "      <th>16349</th>\n",
       "      <td>2</td>\n",
       "      <td>81745</td>\n",
       "      <td>81750</td>\n",
       "    </tr>\n",
       "    <tr>\n",
       "      <th>16350</th>\n",
       "      <td>2</td>\n",
       "      <td>81750</td>\n",
       "      <td>81755</td>\n",
       "    </tr>\n",
       "  </tbody>\n",
       "</table>\n",
       "<p>711 rows × 3 columns</p>\n",
       "</div>"
      ],
      "text/plain": [
       "       brainstate  start_epoch  end_epoch\n",
       "963             2         4815       4820\n",
       "964             2         4820       4825\n",
       "965             2         4825       4830\n",
       "966             2         4830       4835\n",
       "967             2         4835       4840\n",
       "...           ...          ...        ...\n",
       "16132           2        80660      80665\n",
       "16347           2        81735      81740\n",
       "16348           2        81740      81745\n",
       "16349           2        81745      81750\n",
       "16350           2        81750      81755\n",
       "\n",
       "[711 rows x 3 columns]"
      ]
     },
     "execution_count": 20,
     "metadata": {},
     "output_type": "execute_result"
    }
   ],
   "source": [
    "#this used the pandas loc method to select the column of choice - brainstate\n",
    "rem = br_1_130.loc[br_1_130['brainstate'] == 2]\n",
    "rem"
   ]
  },
  {
   "cell_type": "markdown",
   "id": "6394e1b0",
   "metadata": {},
   "source": [
    "If we want to have a look at these time values for REM within the recording we need to select the corresponding data indices\n"
   ]
  },
  {
   "cell_type": "markdown",
   "id": "9bd2ca0c",
   "metadata": {},
   "source": [
    "<span style=\"color:blue\">*It is important here to take the sampling rate into consideration. The taini tec recording devices record 250.4 samples every second. Therefore if we want to skip to 4815 seconds ahead of the start time we need to multiply this value by 250.4.* </span> "
   ]
  },
  {
   "cell_type": "code",
   "execution_count": 24,
   "id": "28f6a7d0",
   "metadata": {},
   "outputs": [
    {
     "data": {
      "text/plain": [
       "array([[2806, 2799, 2790, ..., 2828, 2829, 2821],\n",
       "       [2720, 2722, 2724, ..., 2710, 2712, 2709],\n",
       "       [2801, 2801, 2793, ..., 2771, 2777, 2779],\n",
       "       ...,\n",
       "       [2737, 2740, 2738, ..., 2712, 2720, 2723],\n",
       "       [2696, 2700, 2701, ..., 2680, 2683, 2682],\n",
       "       [2766, 2757, 2750, ..., 2767, 2777, 2772]], dtype=int16)"
      ]
     },
     "execution_count": 24,
     "metadata": {},
     "output_type": "execute_result"
    }
   ],
   "source": [
    "rem_time_start = int(4815*250.4)\n",
    "rem_time_end = int(4820*250.4)\n",
    "sliced_recording[:, rem_time_start:rem_time_end]"
   ]
  },
  {
   "cell_type": "markdown",
   "id": "1cec487e",
   "metadata": {},
   "source": [
    "I hope this makes sense, from here I would look at selecting different column values so you do not have to hard code the times you want to look at every time. I would recommend learning <span style=\"color:red\">for loops</span> and <span style=\"color:red\"> list comprehension </span> for this"
   ]
  },
  {
   "cell_type": "code",
   "execution_count": null,
   "id": "6c5d5365",
   "metadata": {},
   "outputs": [],
   "source": []
  },
  {
   "cell_type": "markdown",
   "id": "432ee24d",
   "metadata": {},
   "source": [
    "Also try plot this raw data using mne:"
   ]
  },
  {
   "cell_type": "code",
   "execution_count": 26,
   "id": "fb363d97",
   "metadata": {},
   "outputs": [
    {
     "name": "stdout",
     "output_type": "stream",
     "text": [
      "Creating RawArray with float64 data, n_channels=16, n_times=69377198\n",
      "    Range : 0 ... 69377197 =      0.000 ... 277065.483 secs\n",
      "Ready.\n"
     ]
    }
   ],
   "source": [
    "import mne\n",
    "import matplotlib.pyplot\n",
    "\n",
    "\n",
    "ch_names = ['S1Tr_RIGHT', 'EMG_RIGHT', 'M2_FrA_RIGHT','M2_ant_RIGHT','M1_ant_RIGHT', 'V2ML_RIGHT',\n",
    "            'V1M_RIGHT', 'S1HL_S1FL_RIGHT', 'V1M_LEFT', 'V2ML_LEFT', 'S1HL_S1FL_LEFT',\n",
    "            'M1_ant_LEFT','M2_ant_LEFT','M2_FrA_LEFT', 'EMG_LEFT', 'S1Tr_LEFT']\n",
    "\n",
    "ch_types = ['eeg', 'emg', 'eeg', 'eeg', 'eeg', 'eeg',\n",
    "           'eeg', 'eeg', 'eeg', 'eeg', 'eeg',\n",
    "           'eeg', 'eeg', 'eeg', 'emg', 'eeg']\n",
    "\n",
    "\n",
    "raw_info = mne.create_info(ch_names, sfreq = 250.4, ch_types=ch_types)\n",
    "\n",
    "os.chdir('/home/melissa/PREPROCESSING/GRIN2B/GRIN2B_numpy/')\n",
    "test_file = np.load('130_GRIN2B.npy')\n",
    "\n",
    "raw = mne.io.RawArray(test_file, raw_info)\n",
    "raw.plot(scalings = 'auto')"
   ]
  },
  {
   "cell_type": "code",
   "execution_count": null,
   "id": "ca71b0ae",
   "metadata": {},
   "outputs": [],
   "source": []
  }
 ],
 "metadata": {
  "kernelspec": {
   "display_name": "env2023",
   "language": "python",
   "name": "env2023"
  },
  "language_info": {
   "codemirror_mode": {
    "name": "ipython",
    "version": 3
   },
   "file_extension": ".py",
   "mimetype": "text/x-python",
   "name": "python",
   "nbconvert_exporter": "python",
   "pygments_lexer": "ipython3",
   "version": "3.8.15"
  }
 },
 "nbformat": 4,
 "nbformat_minor": 5
}
